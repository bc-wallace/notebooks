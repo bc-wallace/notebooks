{
 "cells": [
  {
   "cell_type": "code",
   "execution_count": 16,
   "id": "be909654-ee3a-4954-9629-cde42b235176",
   "metadata": {},
   "outputs": [],
   "source": [
    "import numpy as np\n",
    "import xarray as xr\n",
    "import pandas as pd\n",
    "\n",
    "import dask\n",
    "import dask.array as da\n",
    "from dask import delayed\n",
    "\n",
    "from matplotlib.path import Path\n",
    "import matplotlib.ticker as mticker\n",
    "\n",
    "from glob import glob\n",
    "\n",
    "from datetime import datetime, timedelta\n",
    "import os\n",
    "import wrf\n",
    "import time\n",
    "\n",
    "import zarr"
   ]
  },
  {
   "cell_type": "code",
   "execution_count": 17,
   "id": "3b27372f-6901-46fb-a6c4-4b2b56a9fcef",
   "metadata": {},
   "outputs": [],
   "source": [
    "siv_folders = glob('/eagle/climate_severe/observations/stageiv/*')\n",
    "siv_folders.sort()\n",
    "\n",
    "all_files=[]\n",
    "for f in siv_folders:\n",
    "    files_in_folder = glob(f+'/*.nc')\n",
    "    files_in_folder.sort()\n",
    "    for fif in files_in_folder:\n",
    "        all_files.append(fif)\n",
    "        \n",
    "geog = xr.open_mfdataset(all_files[0])\n",
    "dummy_shape = geog.p01m[0].shape #getting the geographic bounds"
   ]
  },
  {
   "cell_type": "code",
   "execution_count": 18,
   "id": "d013dc8d-25e8-4659-9f7f-d406916d7230",
   "metadata": {},
   "outputs": [
    {
     "name": "stdout",
     "output_type": "stream",
     "text": [
      "p01m\n",
      "Done\n"
     ]
    }
   ],
   "source": [
    "#%%time\n",
    "\n",
    "for v in ['p01m']:\n",
    "    print(v)\n",
    "    #set zarr storage location\n",
    "    zarr_store='/eagle/climate_severe/bwallace_scratch/data_request/STAGEIV/STAGEIV'\n",
    "    #set variables to write to file\n",
    "    store_vars=[v,'time']\n",
    "\n",
    "    npList=np.array(all_files)\n",
    "\n",
    "    time_dims=np.array([1]*(npList.shape[0]*24))\n",
    "    full_shape=(time_dims.sum(),)+(dummy_shape)\n",
    "    offsets=np.cumsum(time_dims)\n",
    "    offsets-=offsets[0]\n",
    "\n",
    "    #define dictionary of attrs\n",
    "    ATTRS={\n",
    "        'time':[\"time\"],\n",
    "        'lat':[\"lat\"],\n",
    "        'lon':[\"lon\"],\n",
    "        v:[\"time\",\"lat\",\"lon\"],\n",
    "\n",
    "    }\n",
    "\n",
    "    #store expected shapes of each var in dictionary\n",
    "    shp={\n",
    "        'time':(time_dims.sum(),),\n",
    "        v:full_shape,\n",
    "    }\n",
    "\n",
    "    chnks={\n",
    "        'time':(24,),\n",
    "        v:(24,)+full_shape[1:],\n",
    "    }   \n",
    "\n",
    "    #assign attrs to individual variables\n",
    "    attrs={}\n",
    "    attrs[v]={}\n",
    "    attrs[v][\"_ARRAY_DIMENSIONS\"]=ATTRS[v]\n",
    "\n",
    "    attrs['time']={}\n",
    "    attrs['time']['_ARRAY_DIMENSIONS']=ATTRS['time']\n",
    "    attrs[\"time\"].update(\n",
    "        calendar=\"proleptic_gregorian\",units='minutes since 1980-01-01', #make sure this is consistent with function\n",
    "    )\n",
    "\n",
    "    #create an empty zarr group \n",
    "    group=zarr.group(zarr_store)\n",
    "\n",
    "    #allocate each variable in the zarr group\n",
    "    for varname in store_vars:\n",
    "        v=group.empty(varname,shape=shp[varname],chunks=chnks[varname],dtype='float32',\n",
    "                      compressor=(zarr.Blosc(cname='zstd', clevel=3)),overwrite=True)\n",
    "        v.attrs.update(attrs[varname])\n",
    "\n",
    "print('Done')"
   ]
  },
  {
   "cell_type": "code",
   "execution_count": null,
   "id": "179cf9c9-df56-43ce-bbfe-6de251146fae",
   "metadata": {},
   "outputs": [],
   "source": []
  }
 ],
 "metadata": {
  "kernelspec": {
   "display_name": "jhub_analysis",
   "language": "python",
   "name": "jhub_analysis"
  },
  "language_info": {
   "codemirror_mode": {
    "name": "ipython",
    "version": 3
   },
   "file_extension": ".py",
   "mimetype": "text/x-python",
   "name": "python",
   "nbconvert_exporter": "python",
   "pygments_lexer": "ipython3",
   "version": "3.11.5"
  }
 },
 "nbformat": 4,
 "nbformat_minor": 5
}
